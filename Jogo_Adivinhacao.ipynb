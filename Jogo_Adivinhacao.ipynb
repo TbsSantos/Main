{
 "cells": [
  {
   "cell_type": "markdown",
   "id": "6823e8a7",
   "metadata": {},
   "source": [
    "# Jogo de adivinhação de números"
   ]
  },
  {
   "cell_type": "code",
   "execution_count": null,
   "id": "dfa91a00",
   "metadata": {},
   "outputs": [],
   "source": [
    "# Importando biblioteca random para gerar números aleatórios"
   ]
  },
  {
   "cell_type": "code",
   "execution_count": 1,
   "id": "6b9f6ea2",
   "metadata": {},
   "outputs": [],
   "source": [
    "import random"
   ]
  },
  {
   "cell_type": "code",
   "execution_count": null,
   "id": "ad15b2c4",
   "metadata": {},
   "outputs": [],
   "source": [
    "# função para criar valor aletorio"
   ]
  },
  {
   "cell_type": "code",
   "execution_count": 59,
   "id": "36cf6ee7",
   "metadata": {},
   "outputs": [],
   "source": [
    "def valor_gerado():\n",
    "    valor = random.randint(1,100)\n",
    "    return valor"
   ]
  },
  {
   "cell_type": "code",
   "execution_count": 60,
   "id": "7a8e5550",
   "metadata": {},
   "outputs": [
    {
     "data": {
      "text/plain": [
       "48"
      ]
     },
     "execution_count": 60,
     "metadata": {},
     "output_type": "execute_result"
    }
   ],
   "source": [
    "# função para receber valores do usuário e fazer comparações\n"
   ]
  },
  {
   "cell_type": "code",
   "execution_count": 104,
   "id": "908836d4",
   "metadata": {},
   "outputs": [],
   "source": [
    "def jogo():\n",
    "    # variavel para salvar quantidade de chances\n",
    "    qtd = int(input(\"Deseja quantas chances para tentar acertar?\"))\n",
    "    #chamando função para pegar valor aleatório\n",
    "    valor = valor_gerado()\n",
    "    print(valor)\n",
    "    i=1\n",
    "    teste = int(input(\"informe um valor \\n\"))\n",
    "    \n",
    "    while True:\n",
    "              \n",
    "        #eliminando valores fora do range\n",
    "        if ((teste < 1) or (teste >100)):\n",
    "            print(\"Valor inválido, escolha de 0 a 100\")\n",
    "            teste = int(input(\"informe um valor \\n\"))\n",
    "        else:\n",
    "            #Comparando valores digitados com o valor gerado aleatoriamente\n",
    "            if teste > valor:\n",
    "                print(\"Tente novamente, você chutou muito ALTO!\")\n",
    "                teste = int(input(\"informe um valor \\n\"))\n",
    "            elif teste < valor:\n",
    "                print(\"Tente novamente, você chutou muito BAIXO!\")\n",
    "                teste = int(input(\"informe um valor \\n\"))\n",
    "            else:\n",
    "                print(f'PARABÉNS VOCÊ ACERTOU!! \\nCom {i} tentativas válidas.')\n",
    "                break\n",
    "            i +=1\n",
    "            # Contador para encerrar o jogo, caso não acerte com a quantidade de chances.\n",
    "            if i > qtd-1:\n",
    "                print(\"GAME OVER!!!\\n\")\n",
    "                break\n",
    "    "
   ]
  },
  {
   "cell_type": "code",
   "execution_count": 105,
   "id": "c38abaf9",
   "metadata": {
    "scrolled": true
   },
   "outputs": [
    {
     "name": "stdout",
     "output_type": "stream",
     "text": [
      "Deseja quantas chances para tentar acertar?2\n",
      "3\n",
      "informe um valor \n",
      "1\n",
      "Tente novamente, você chutou muito BAIXO!\n",
      "informe um valor \n",
      "2\n",
      "GAME OVER!!!\n",
      "\n"
     ]
    }
   ],
   "source": [
    "jogo()\n"
   ]
  },
  {
   "cell_type": "code",
   "execution_count": null,
   "id": "31ad49b0",
   "metadata": {},
   "outputs": [],
   "source": []
  }
 ],
 "metadata": {
  "kernelspec": {
   "display_name": "Python 3 (ipykernel)",
   "language": "python",
   "name": "python3"
  },
  "language_info": {
   "codemirror_mode": {
    "name": "ipython",
    "version": 3
   },
   "file_extension": ".py",
   "mimetype": "text/x-python",
   "name": "python",
   "nbconvert_exporter": "python",
   "pygments_lexer": "ipython3",
   "version": "3.9.13"
  }
 },
 "nbformat": 4,
 "nbformat_minor": 5
}
